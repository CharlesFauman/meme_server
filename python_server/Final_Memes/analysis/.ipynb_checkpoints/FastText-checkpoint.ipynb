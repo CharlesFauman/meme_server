{
 "cells": [
  {
   "cell_type": "code",
   "execution_count": 14,
   "metadata": {},
   "outputs": [],
   "source": [
    "import pandas as pd\n",
    "import numpy as np\n",
    "\n",
    "import pickle\n",
    "\n",
    "from gensim.models import Word2Vec\n",
    "import glob\n",
    "import os\n",
    "\n",
    "from keras.models import Sequential\n",
    "from keras.layers import Dense, Dropout, LSTM\n",
    "from keras.models import load_model\n",
    "from keras.utils.np_utils import to_categorical\n",
    "from keras.metrics import top_k_categorical_accuracy\n",
    "\n",
    "\n",
    "from sklearn.decomposition import PCA\n",
    "from sklearn.discriminant_analysis import LinearDiscriminantAnalysis as LDA\n",
    "from sklearn.externals import joblib\n",
    "from sklearn import tree\n",
    "\n",
    "from sklearn.preprocessing import normalize\n",
    "\n",
    "import analysis_functions"
   ]
  },
  {
   "cell_type": "code",
   "execution_count": null,
   "metadata": {},
   "outputs": [],
   "source": []
  },
  {
   "cell_type": "code",
   "execution_count": 2,
   "metadata": {},
   "outputs": [],
   "source": [
    "data_df = pd.read_csv(\"../cleaning/cleaned_memes.tsv\", sep='\\t')\n",
    "data_meme_classes = dict(tuple(data_df.groupby('meme')))\n",
    "train_data_dict = dict()\n",
    "test_data_dict = dict()\n",
    "for meme_name, memes in data_meme_classes.items():\n",
    "    validation_split = int(np.floor(len(np.unique(memes['meme_id']))*.8))\n",
    "    ans = dict(tuple(memes.groupby(lambda index: int(memes.loc[index]['meme_id'] > validation_split))))\n",
    "    train_data_dict[meme_name] = ans[0]\n",
    "    test_data_dict[meme_name] = ans[1]\n",
    "\n",
    "train_sentences = analysis_functions.data_dict_to_sents(train_data_dict)"
   ]
  },
  {
   "cell_type": "code",
   "execution_count": 3,
   "metadata": {},
   "outputs": [],
   "source": [
    "test_sentences = analysis_functions.data_dict_to_sents(test_data_dict)"
   ]
  },
  {
   "cell_type": "code",
   "execution_count": 10,
   "metadata": {},
   "outputs": [
    {
     "name": "stdout",
     "output_type": "stream",
     "text": [
      "Kermit Drinking Tea\n"
     ]
    }
   ],
   "source": [
    "for meme_num, meme in enumerate(train_data_dict):\n",
    "    print(meme)\n",
    "    break\n",
    "    \n",
    "for sentence in train_sentences:\n",
    "    train_file.write(\\' '.join(sentence) + '\\n')"
   ]
  },
  {
   "cell_type": "code",
   "execution_count": null,
   "metadata": {},
   "outputs": [],
   "source": []
  },
  {
   "cell_type": "code",
   "execution_count": 17,
   "metadata": {},
   "outputs": [],
   "source": [
    "meme_annotations = dict()\n",
    "for filename in glob.glob('../collection/annotations/*.txt'):\n",
    "    with open(filename, 'r', encoding=\"utf8\") as annotations_file:\n",
    "        annotations_list = annotations_file.read().lower().splitlines()\n",
    "        \n",
    "        data = {'id' : [meme[:7] for meme in annotations_list],\n",
    "                'text' : [meme[9:-1] for meme in annotations_list]}\n",
    "        meme_annotations[os.path.basename(filename)[:-4]] = pd.DataFrame(data)"
   ]
  },
  {
   "cell_type": "code",
   "execution_count": 39,
   "metadata": {},
   "outputs": [],
   "source": [
    "meme_names = sorted(meme_annotations.keys())\n",
    "corrected_meme_names = [x.replace(' ', '-').lower() for x in meme_names]"
   ]
  },
  {
   "cell_type": "code",
   "execution_count": 40,
   "metadata": {},
   "outputs": [
    {
     "name": "stdout",
     "output_type": "stream",
     "text": [
      "__label__awkward-situation-seal the face of losing a pokemon battle.\n",
      "__label__awkward-situation-seal your face when the person in the next stall leaves the restroom without washing hands\n",
      "__label__awkward-situation-seal when allah says you can't eat or drink until night but you live at the north pole and it won't be dark for 6 months\n",
      "__label__awkward-situation-seal the face you pull when you  need  to fart at a funeral but you cant...\n"
     ]
    }
   ],
   "source": [
    "output_file = open('memes_train.txt', 'w')\n",
    "for index, meme_name in enumerate(meme_names):\n",
    "    i = 0\n",
    "    for meme in meme_annotations[meme_name]['text']:\n",
    "        i += 1\n",
    "        output_file.write('__label__' + str(corrected_meme_names[index]) + \" \" + meme[1:])\n",
    "        if i > 3: break\n",
    "    break"
   ]
  }
 ],
 "metadata": {
  "kernelspec": {
   "display_name": "Python 3",
   "language": "python",
   "name": "python3"
  },
  "language_info": {
   "codemirror_mode": {
    "name": "ipython",
    "version": 3
   },
   "file_extension": ".py",
   "mimetype": "text/x-python",
   "name": "python",
   "nbconvert_exporter": "python",
   "pygments_lexer": "ipython3",
   "version": "3.5.5"
  }
 },
 "nbformat": 4,
 "nbformat_minor": 2
}
