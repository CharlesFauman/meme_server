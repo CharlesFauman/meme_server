{
 "cells": [
  {
   "cell_type": "code",
   "execution_count": 36,
   "metadata": {},
   "outputs": [],
   "source": [
    "import pandas as pd\n",
    "import numpy as np\n",
    "\n",
    "import pickle\n",
    "\n",
    "from gensim.models import Word2Vec\n",
    "\n",
    "from keras.models import Sequential\n",
    "from keras.layers import Dense, Dropout, BatchNormalization, Conv1D, Flatten\n",
    "from keras.models import load_model\n",
    "from keras.utils.np_utils import to_categorical\n",
    "from keras.metrics import top_k_categorical_accuracy\n",
    "\n",
    "\n",
    "from sklearn.decomposition import PCA\n",
    "from sklearn.discriminant_analysis import LinearDiscriminantAnalysis as LDA\n",
    "from sklearn.externals import joblib\n",
    "from sklearn import tree\n",
    "\n",
    "from sklearn.preprocessing import normalize\n",
    "\n",
    "import analysis_functions"
   ]
  },
  {
   "cell_type": "code",
   "execution_count": null,
   "metadata": {
    "collapsed": true
   },
   "outputs": [],
   "source": []
  },
  {
   "cell_type": "code",
   "execution_count": 3,
   "metadata": {},
   "outputs": [],
   "source": [
    "meta_dict = pickle.load(open( \"meta_dict.p\", \"rb\" ))\n",
    "\n",
    "train_data = np.load(\"data/train_data.npy\")\n",
    "train_y = np.load(\"data/train_y.npy\")\n",
    "test_data = np.load(\"data/test_data.npy\")\n",
    "test_y = np.load(\"data/test_y.npy\")"
   ]
  },
  {
   "cell_type": "code",
   "execution_count": 4,
   "metadata": {
    "scrolled": true
   },
   "outputs": [],
   "source": [
    "data_df = pd.read_csv(\"../cleaning/cleaned_memes.tsv\", sep='\\t')\n",
    "data_meme_classes = dict(tuple(data_df.groupby('meme')))\n",
    "train_data_dict = dict()\n",
    "test_data_dict = dict()\n",
    "for meme_name, memes in data_meme_classes.items():\n",
    "    validation_split = int(np.floor(len(np.unique(memes['meme_id']))*.8))\n",
    "    ans = dict(tuple(memes.groupby(lambda index: int(memes.loc[index]['meme_id'] > validation_split))))\n",
    "    train_data_dict[meme_name] = ans[0]\n",
    "    test_data_dict[meme_name] = ans[1]"
   ]
  },
  {
   "cell_type": "code",
   "execution_count": 5,
   "metadata": {},
   "outputs": [],
   "source": [
    "train_sentences = analysis_functions.data_dict_to_sents(train_data_dict)"
   ]
  },
  {
   "cell_type": "code",
   "execution_count": 19,
   "metadata": {},
   "outputs": [],
   "source": [
    "meta_dict = dict()\n",
    "meta_dict[\"memes\"] = analysis_functions.categorical_dict_from_list(np.unique(data_df['meme']))\n",
    "meta_dict[\"meme_names\"] = np.unique(data_df['meme'])\n",
    "meta_dict[\"pos\"] = analysis_functions.categorical_dict_from_list(np.unique(data_df['pos']))\n",
    "meta_dict[\"sentiment\"] = analysis_functions.categorical_dict_from_list(np.unique(data_df['sentiment']))\n",
    "meta_dict[\"embeddings\"] = Word2Vec(train_sentences, size=64, min_count=5)\n",
    "meta_dict[\"sentence_size\"] = 50\n",
    "\n",
    "pickle.dump(meta_dict, open( \"meta_dict.p\", \"wb\" ) )"
   ]
  },
  {
   "cell_type": "code",
   "execution_count": 20,
   "metadata": {},
   "outputs": [],
   "source": [
    "train_data, train_y = analysis_functions.vectorize_meme_data(meta_dict, train_data_dict)\n",
    "test_data, test_y = analysis_functions.vectorize_meme_data(meta_dict, test_data_dict)\n",
    "np.save(\"data/train_data.npy\", train_data)\n",
    "np.save(\"data/train_y.npy\", train_y)\n",
    "np.save(\"data/test_data.npy\", test_data)\n",
    "np.save(\"data/test_y.npy\", test_y)"
   ]
  },
  {
   "cell_type": "code",
   "execution_count": 10,
   "metadata": {
    "scrolled": true
   },
   "outputs": [
    {
     "name": "stdout",
     "output_type": "stream",
     "text": [
      "_________________________________________________________________\n",
      "Layer (type)                 Output Shape              Param #   \n",
      "=================================================================\n",
      "lstm_1 (LSTM)                (None, 40)                22240     \n",
      "_________________________________________________________________\n",
      "dense_1 (Dense)              (None, 40)                1640      \n",
      "=================================================================\n",
      "Total params: 23,880\n",
      "Trainable params: 23,880\n",
      "Non-trainable params: 0\n",
      "_________________________________________________________________\n"
     ]
    }
   ],
   "source": [
    "model = analysis_functions.create_model(meta_dict)"
   ]
  },
  {
   "cell_type": "code",
   "execution_count": 38,
   "metadata": {},
   "outputs": [
    {
     "name": "stdout",
     "output_type": "stream",
     "text": [
      "_________________________________________________________________\n",
      "Layer (type)                 Output Shape              Param #   \n",
      "=================================================================\n",
      "batch_normalization_1 (Batch (None, 50, 112)           448       \n",
      "_________________________________________________________________\n",
      "conv1d_39 (Conv1D)           (None, 50, 64)            107584    \n",
      "_________________________________________________________________\n",
      "dropout_16 (Dropout)         (None, 50, 64)            0         \n",
      "_________________________________________________________________\n",
      "conv1d_40 (Conv1D)           (None, 50, 32)            16416     \n",
      "_________________________________________________________________\n",
      "dropout_17 (Dropout)         (None, 50, 32)            0         \n",
      "_________________________________________________________________\n",
      "conv1d_41 (Conv1D)           (None, 25, 32)            8224      \n",
      "_________________________________________________________________\n",
      "conv1d_42 (Conv1D)           (None, 25, 32)            4128      \n",
      "_________________________________________________________________\n",
      "conv1d_43 (Conv1D)           (None, 25, 32)            4128      \n",
      "_________________________________________________________________\n",
      "flatten_10 (Flatten)         (None, 800)               0         \n",
      "_________________________________________________________________\n",
      "dropout_18 (Dropout)         (None, 800)               0         \n",
      "_________________________________________________________________\n",
      "dense_13 (Dense)             (None, 40)                32040     \n",
      "=================================================================\n",
      "Total params: 172,968\n",
      "Trainable params: 172,744\n",
      "Non-trainable params: 224\n",
      "_________________________________________________________________\n"
     ]
    }
   ],
   "source": [
    "model = Sequential()\n",
    "\n",
    "model.add(BatchNormalization(input_shape = (meta_dict[\"sentence_size\"], meta_dict[\"embeddings\"].vector_size + len(meta_dict[\"sentiment\"]) + len(meta_dict[\"pos\"]))))\n",
    "model.add(Conv1D(filters = 64, kernel_size = 15, strides=1, padding='same'))\n",
    "model.add(BatchNormalization())\n",
    "model.add(Dropout(.5))\n",
    "model.add(Conv1D(filters = 32, kernel_size = 8, strides=1, padding='same'))\n",
    "model.add(BatchNormalization())\n",
    "model.add(Dropout(.5))\n",
    "model.add(Conv1D(filters = 32, kernel_size = 8, strides=2, padding='same'))\n",
    "model.add(Conv1D(filters = 32, kernel_size = 4, strides=1, padding='same'))\n",
    "model.add(Conv1D(filters = 32, kernel_size = 4, strides=1, padding='same'))\n",
    "\n",
    "model.add(Flatten())\n",
    "model.add(Dropout(.5))\n",
    "model.add(Dense(len(meta_dict[\"meme_names\"]), activation='softmax'))\n",
    "\n",
    "model.compile(loss='categorical_crossentropy',\n",
    "              optimizer='adam',\n",
    "              metrics=['accuracy'])\n",
    "model.summary()"
   ]
  },
  {
   "cell_type": "code",
   "execution_count": 9,
   "metadata": {},
   "outputs": [],
   "source": [
    "model = load_model('model.hdf5')"
   ]
  },
  {
   "cell_type": "code",
   "execution_count": 33,
   "metadata": {},
   "outputs": [
    {
     "name": "stdout",
     "output_type": "stream",
     "text": [
      "Epoch 1/50\n",
      "33141/33141 [==============================] - 4s 125us/step - loss: 2.7014 - acc: 0.3124\n",
      "Epoch 2/50\n",
      "33141/33141 [==============================] - 3s 94us/step - loss: 2.1513 - acc: 0.4366\n",
      "Epoch 3/50\n",
      "33141/33141 [==============================] - 3s 94us/step - loss: 2.0366 - acc: 0.4581\n",
      "Epoch 4/50\n",
      "33141/33141 [==============================] - 3s 95us/step - loss: 1.9631 - acc: 0.4772\n",
      "Epoch 5/50\n",
      "33141/33141 [==============================] - 3s 94us/step - loss: 1.9333 - acc: 0.4858\n",
      "Epoch 6/50\n",
      "33141/33141 [==============================] - 3s 94us/step - loss: 1.9098 - acc: 0.4930\n",
      "Epoch 7/50\n",
      "33141/33141 [==============================] - 3s 95us/step - loss: 1.8779 - acc: 0.4988\n",
      "Epoch 8/50\n",
      "33141/33141 [==============================] - 3s 95us/step - loss: 1.8646 - acc: 0.5057\n",
      "Epoch 9/50\n",
      "33141/33141 [==============================] - 3s 96us/step - loss: 1.8405 - acc: 0.5093\n",
      "Epoch 10/50\n",
      "33141/33141 [==============================] - 3s 96us/step - loss: 1.8348 - acc: 0.5096\n",
      "Epoch 11/50\n",
      "33141/33141 [==============================] - 3s 96us/step - loss: 1.8248 - acc: 0.5149\n",
      "Epoch 12/50\n",
      "33141/33141 [==============================] - 3s 95us/step - loss: 1.8093 - acc: 0.5153\n",
      "Epoch 13/50\n",
      "33141/33141 [==============================] - 3s 96us/step - loss: 1.8085 - acc: 0.5187\n",
      "Epoch 14/50\n",
      "33141/33141 [==============================] - 3s 95us/step - loss: 1.8018 - acc: 0.5196\n",
      "Epoch 15/50\n",
      "33141/33141 [==============================] - 3s 95us/step - loss: 1.7934 - acc: 0.5214\n",
      "Epoch 16/50\n",
      "33141/33141 [==============================] - 3s 95us/step - loss: 1.7836 - acc: 0.5248\n",
      "Epoch 17/50\n",
      "33141/33141 [==============================] - 3s 95us/step - loss: 1.7703 - acc: 0.5258\n",
      "Epoch 18/50\n",
      "33141/33141 [==============================] - 3s 95us/step - loss: 1.7740 - acc: 0.5261\n",
      "Epoch 19/50\n",
      "33141/33141 [==============================] - 3s 95us/step - loss: 1.7645 - acc: 0.5238\n",
      "Epoch 20/50\n",
      "33141/33141 [==============================] - 3s 97us/step - loss: 1.7663 - acc: 0.5288\n",
      "Epoch 21/50\n",
      "33141/33141 [==============================] - 3s 95us/step - loss: 1.7554 - acc: 0.5317\n",
      "Epoch 22/50\n",
      "33141/33141 [==============================] - 3s 95us/step - loss: 1.7439 - acc: 0.5344\n",
      "Epoch 23/50\n",
      "33141/33141 [==============================] - 3s 95us/step - loss: 1.7502 - acc: 0.5338\n",
      "Epoch 24/50\n",
      "33141/33141 [==============================] - 3s 95us/step - loss: 1.7376 - acc: 0.5368\n",
      "Epoch 25/50\n",
      "33141/33141 [==============================] - 3s 95us/step - loss: 1.7320 - acc: 0.5359\n",
      "Epoch 26/50\n",
      "33141/33141 [==============================] - 3s 96us/step - loss: 1.7390 - acc: 0.5335\n",
      "Epoch 27/50\n",
      "33141/33141 [==============================] - 3s 95us/step - loss: 1.7311 - acc: 0.5348\n",
      "Epoch 28/50\n",
      "33141/33141 [==============================] - 3s 95us/step - loss: 1.7295 - acc: 0.5357\n",
      "Epoch 29/50\n",
      "33141/33141 [==============================] - 3s 95us/step - loss: 1.7241 - acc: 0.5373\n",
      "Epoch 30/50\n",
      "33141/33141 [==============================] - 3s 95us/step - loss: 1.7205 - acc: 0.5381\n",
      "Epoch 31/50\n",
      "33141/33141 [==============================] - 3s 96us/step - loss: 1.7185 - acc: 0.5381\n",
      "Epoch 32/50\n",
      "33141/33141 [==============================] - 3s 95us/step - loss: 1.7176 - acc: 0.5379\n",
      "Epoch 33/50\n",
      "33141/33141 [==============================] - 3s 95us/step - loss: 1.7176 - acc: 0.5392\n",
      "Epoch 34/50\n",
      "33141/33141 [==============================] - 3s 94us/step - loss: 1.7134 - acc: 0.5393\n",
      "Epoch 35/50\n",
      "33141/33141 [==============================] - 3s 96us/step - loss: 1.7136 - acc: 0.5412\n",
      "Epoch 36/50\n",
      "33141/33141 [==============================] - 3s 94us/step - loss: 1.7079 - acc: 0.5383\n",
      "Epoch 37/50\n",
      "33141/33141 [==============================] - 3s 99us/step - loss: 1.7054 - acc: 0.5423\n",
      "Epoch 38/50\n",
      "33141/33141 [==============================] - 3s 96us/step - loss: 1.7073 - acc: 0.5411\n",
      "Epoch 39/50\n",
      "33141/33141 [==============================] - 3s 96us/step - loss: 1.6962 - acc: 0.5471\n",
      "Epoch 40/50\n",
      "33141/33141 [==============================] - 3s 95us/step - loss: 1.6926 - acc: 0.5456\n",
      "Epoch 41/50\n",
      "33141/33141 [==============================] - 3s 95us/step - loss: 1.6974 - acc: 0.5431\n",
      "Epoch 42/50\n",
      "33141/33141 [==============================] - 3s 100us/step - loss: 1.6921 - acc: 0.5452\n",
      "Epoch 43/50\n",
      "33141/33141 [==============================] - 3s 96us/step - loss: 1.6941 - acc: 0.5450\n",
      "Epoch 44/50\n",
      "33141/33141 [==============================] - 3s 96us/step - loss: 1.6958 - acc: 0.5458\n",
      "Epoch 45/50\n",
      "33141/33141 [==============================] - 3s 95us/step - loss: 1.6891 - acc: 0.5449\n",
      "Epoch 46/50\n",
      "33141/33141 [==============================] - 3s 96us/step - loss: 1.6887 - acc: 0.5445\n",
      "Epoch 47/50\n",
      "33141/33141 [==============================] - 3s 97us/step - loss: 1.6895 - acc: 0.5446\n",
      "Epoch 48/50\n",
      "33141/33141 [==============================] - 3s 96us/step - loss: 1.6873 - acc: 0.5465\n",
      "Epoch 49/50\n",
      "33141/33141 [==============================] - 3s 96us/step - loss: 1.6758 - acc: 0.5493\n",
      "Epoch 50/50\n",
      "33141/33141 [==============================] - 3s 98us/step - loss: 1.6788 - acc: 0.5470\n"
     ]
    },
    {
     "data": {
      "text/plain": [
       "<keras.callbacks.History at 0x7fb1d019c358>"
      ]
     },
     "execution_count": 33,
     "metadata": {},
     "output_type": "execute_result"
    }
   ],
   "source": [
    "model.fit(train_data, train_y, epochs = 50, batch_size = 200, validation_split = 0.0)"
   ]
  },
  {
   "cell_type": "code",
   "execution_count": 40,
   "metadata": {},
   "outputs": [],
   "source": [
    "#model.save(\"model.hdf5\")"
   ]
  },
  {
   "cell_type": "code",
   "execution_count": 34,
   "metadata": {},
   "outputs": [
    {
     "name": "stdout",
     "output_type": "stream",
     "text": [
      "33141/33141 [==============================] - 3s 103us/step\n",
      "[1.512744619981236, 0.5903261820723456]\n"
     ]
    }
   ],
   "source": [
    "print(model.evaluate(train_data, train_y))"
   ]
  },
  {
   "cell_type": "code",
   "execution_count": 35,
   "metadata": {},
   "outputs": [
    {
     "name": "stdout",
     "output_type": "stream",
     "text": [
      "8240/8240 [==============================] - 1s 99us/step\n",
      "[1.7945188942228871, 0.5245145631067961]\n"
     ]
    }
   ],
   "source": [
    "print(model.evaluate(test_data, test_y))"
   ]
  },
  {
   "cell_type": "code",
   "execution_count": 121,
   "metadata": {},
   "outputs": [],
   "source": [
    "test_cross = pd.crosstab(model.predict_classes(test_data), np.argmax(test_y, axis = 1))"
   ]
  },
  {
   "cell_type": "code",
   "execution_count": 122,
   "metadata": {
    "collapsed": true
   },
   "outputs": [],
   "source": [
    "train_cross = pd.crosstab(model.predict_classes(train_data), np.argmax(train_y, axis = 1))"
   ]
  },
  {
   "cell_type": "code",
   "execution_count": 123,
   "metadata": {
    "collapsed": true
   },
   "outputs": [],
   "source": [
    "train_cross_mat = pd.DataFrame.as_matrix(train_cross)"
   ]
  },
  {
   "cell_type": "code",
   "execution_count": 124,
   "metadata": {},
   "outputs": [],
   "source": [
    "test_cross_mat = pd.DataFrame.as_matrix(test_cross)"
   ]
  },
  {
   "cell_type": "code",
   "execution_count": 126,
   "metadata": {
    "scrolled": true
   },
   "outputs": [
    {
     "name": "stderr",
     "output_type": "stream",
     "text": [
      "C:\\ProgramData\\Anaconda3\\lib\\site-packages\\sklearn\\utils\\validation.py:429: DataConversionWarning: Data with input dtype int64 was converted to float64 by the normalize function.\n",
      "  warnings.warn(msg, _DataConversionWarning)\n"
     ]
    }
   ],
   "source": [
    "import matplotlib.pyplot as plt\n",
    "import numpy as np\n",
    "\n",
    "fig = plt.figure()\n",
    "plt.imshow(normalize(test_cross_mat, axis = 0), cmap = \"magma\")\n",
    "fig.suptitle('test', fontsize=20)\n",
    "plt.xlabel('true', fontsize=16)\n",
    "plt.ylabel('predicted', fontsize=16)\n",
    "fig.savefig('../paper/test_confusion_matrix.jpg')"
   ]
  },
  {
   "cell_type": "code",
   "execution_count": 53,
   "metadata": {},
   "outputs": [
    {
     "name": "stderr",
     "output_type": "stream",
     "text": [
      "C:\\ProgramData\\Anaconda3\\lib\\site-packages\\sklearn\\utils\\validation.py:429: DataConversionWarning: Data with input dtype int32 was converted to float64 by the normalize function.\n",
      "  warnings.warn(msg, _DataConversionWarning)\n"
     ]
    },
    {
     "data": {
      "text/plain": [
       "array([[0.12309149, 0.20739034, 0.26726124],\n",
       "       [0.49236596, 0.51847585, 0.53452248],\n",
       "       [0.86164044, 0.82956136, 0.80178373]])"
      ]
     },
     "execution_count": 53,
     "metadata": {},
     "output_type": "execute_result"
    }
   ],
   "source": [
    "normalize(train_cross_mat, axis = 0)"
   ]
  },
  {
   "cell_type": "code",
   "execution_count": 113,
   "metadata": {
    "scrolled": true
   },
   "outputs": [],
   "source": [
    "def eval_top_k(y_, y, k):\n",
    "    y_real = np.argmax(y, axis = 1)[:,None]\n",
    "    sol = np.any(np.argsort(y_)[:,-k:] == y_real, axis = 1)\n",
    "    return(sum(sol)/len(sol))"
   ]
  },
  {
   "cell_type": "code",
   "execution_count": 7,
   "metadata": {},
   "outputs": [
    {
     "data": {
      "text/plain": [
       "(33141, 50, 98)"
      ]
     },
     "execution_count": 7,
     "metadata": {},
     "output_type": "execute_result"
    }
   ],
   "source": [
    "train_data.shape"
   ]
  },
  {
   "cell_type": "code",
   "execution_count": 111,
   "metadata": {},
   "outputs": [],
   "source": [
    "pred_train = model.predict(train_data)\n",
    "pred_test = model.predict(test_data)"
   ]
  },
  {
   "cell_type": "code",
   "execution_count": 86,
   "metadata": {},
   "outputs": [],
   "source": [
    "train_cross = pd.crosstab(np.argmax(pred_train, axis = 1), np.argmax(train_y, axis = 1))\n",
    "test_cross = pd.crosstab(np.argmax(pred_test, axis = 1), np.argmax(test_y, axis = 1))"
   ]
  },
  {
   "cell_type": "code",
   "execution_count": 89,
   "metadata": {
    "collapsed": true
   },
   "outputs": [],
   "source": [
    "train_cross_mat = pd.DataFrame.as_matrix(train_cross)\n",
    "test_cross_mat = pd.DataFrame.as_matrix(test_cross)"
   ]
  },
  {
   "cell_type": "code",
   "execution_count": 110,
   "metadata": {},
   "outputs": [
    {
     "data": {
      "text/plain": [
       "array([[0., 0., 0., ..., 0., 1., 0.],\n",
       "       [0., 0., 0., ..., 0., 1., 0.],\n",
       "       [0., 0., 0., ..., 0., 1., 0.],\n",
       "       ...,\n",
       "       [0., 0., 0., ..., 0., 1., 0.],\n",
       "       [0., 0., 0., ..., 0., 1., 0.],\n",
       "       [0., 0., 0., ..., 0., 1., 0.]])"
      ]
     },
     "execution_count": 110,
     "metadata": {},
     "output_type": "execute_result"
    }
   ],
   "source": [
    "meme_num = 38\n",
    "test_y[np.argmax(test_y, axis = 1) == meme_num]"
   ]
  },
  {
   "cell_type": "code",
   "execution_count": 112,
   "metadata": {},
   "outputs": [],
   "source": [
    "def top_k_specific(predictions, answers, meme_num, k):\n",
    "    y = answers[np.argmax(answers, axis = 1) == meme_num]\n",
    "    y_ = predictions[np.argmax(answers, axis = 1) == meme_num]\n",
    "    return(eval_top_k(y_, y, k))"
   ]
  },
  {
   "cell_type": "code",
   "execution_count": null,
   "metadata": {
    "collapsed": true
   },
   "outputs": [],
   "source": [
    "for k in range(1,11):\n",
    "    "
   ]
  },
  {
   "cell_type": "code",
   "execution_count": 114,
   "metadata": {},
   "outputs": [],
   "source": [
    "meme_scores_test = np.ones((10, 40))*-1\n",
    "for k in range(1,11):\n",
    "    for meme_num in range(40):\n",
    "        score = top_k_specific(pred_test, test_y, meme_num, k)\n",
    "        meme_scores_test[k-1,meme_num] = score"
   ]
  },
  {
   "cell_type": "code",
   "execution_count": 115,
   "metadata": {},
   "outputs": [],
   "source": [
    "meme_scores_train = np.ones((10, 40))*-1\n",
    "for k in range(1,11):\n",
    "    for meme_num in range(40):\n",
    "        score = top_k_specific(pred_train, train_y, meme_num, k)\n",
    "        meme_scores_train[k-1,meme_num] = score"
   ]
  },
  {
   "cell_type": "code",
   "execution_count": 15,
   "metadata": {},
   "outputs": [
    {
     "name": "stdout",
     "output_type": "stream",
     "text": [
      "_________________________________________________________________\n",
      "Layer (type)                 Output Shape              Param #   \n",
      "=================================================================\n",
      "lstm_1 (LSTM)                (None, 40)                22240     \n",
      "_________________________________________________________________\n",
      "dense_1 (Dense)              (None, 40)                1640      \n",
      "=================================================================\n",
      "Total params: 23,880\n",
      "Trainable params: 23,880\n",
      "Non-trainable params: 0\n",
      "_________________________________________________________________\n"
     ]
    }
   ],
   "source": [
    "model.summary()"
   ]
  },
  {
   "cell_type": "code",
   "execution_count": 24,
   "metadata": {},
   "outputs": [],
   "source": [
    "model.layers[0].batch_input_shape = (None, 50, 98)"
   ]
  },
  {
   "cell_type": "code",
   "execution_count": 18,
   "metadata": {},
   "outputs": [],
   "source": [
    "model.save(\"model.hdf5\")\n",
    "tfjs.converters.save_keras_model(model, \"js_memes_model\")"
   ]
  },
  {
   "cell_type": "code",
   "execution_count": 11,
   "metadata": {},
   "outputs": [],
   "source": [
    "from matplotlib import pyplot"
   ]
  },
  {
   "cell_type": "code",
   "execution_count": 128,
   "metadata": {},
   "outputs": [
    {
     "data": {
      "image/png": "[encoded data removed]",
      "text/plain": [
       "<matplotlib.figure.Figure at 0x1b901d22668>"
      ]
     },
     "metadata": {},
     "output_type": "display_data"
    }
   ],
   "source": [
    "pyplot.plot(meme_scores_test.T)\n",
    "pyplot.title(\"test accuracy by top k\")\n",
    "pyplot.xlabel(\"meme number\")\n",
    "pyplot.ylabel(\"accuracy\")\n",
    "pyplot.legend(range(1, 11), loc='lower left', ncol=5)\n",
    "pyplot.yticks(np.arange(0, 1.1, .1))\n",
    "pyplot.show()"
   ]
  },
  {
   "cell_type": "code",
   "execution_count": 48,
   "metadata": {},
   "outputs": [
    {
     "data": {
      "text/plain": [
       "array([0. , 0.1, 0.2, 0.3, 0.4, 0.5, 0.6, 0.7, 0.8, 0.9, 1. ])"
      ]
     },
     "execution_count": 48,
     "metadata": {},
     "output_type": "execute_result"
    }
   ],
   "source": [
    "np.arange(0, 1.1, .1)"
   ]
  },
  {
   "cell_type": "code",
   "execution_count": 134,
   "metadata": {},
   "outputs": [
    {
     "name": "stdout",
     "output_type": "stream",
     "text": [
      "0.102\n",
      "0.233\n",
      "0.335\n",
      "0.427\n",
      "0.456\n",
      "0.490\n",
      "0.529\n",
      "0.568\n",
      "0.626\n",
      "0.675\n"
     ]
    }
   ],
   "source": [
    "for k in range(1,11):\n",
    "    print(\"{0:.3f}\".format(np.min(meme_scores_test[k-1,])))"
   ]
  },
  {
   "cell_type": "code",
   "execution_count": 142,
   "metadata": {},
   "outputs": [
    {
     "name": "stdout",
     "output_type": "stream",
     "text": [
      "0.102\n",
      "0.184\n",
      "0.252\n",
      "0.388\n",
      "0.490\n",
      "0.568\n",
      "0.621\n",
      "0.660\n",
      "0.699\n",
      "0.718\n"
     ]
    }
   ],
   "source": [
    "for k in range(1,11):\n",
    "    worst_meme = -1\n",
    "    worst_score = 2\n",
    "    for meme_num in range(40):\n",
    "        score = top_k_specific(pred_test, test_y, meme_num, k)\n",
    "        if(score < worst_score):\n",
    "            worst_score = score\n",
    "            worst_meme = meme_num\n",
    "    #print(worst_meme)\n",
    "    print(\"{0:.3f}\".format(worst_score))"
   ]
  },
  {
   "cell_type": "code",
   "execution_count": 140,
   "metadata": {
    "scrolled": true
   },
   "outputs": [
    {
     "name": "stdout",
     "output_type": "stream",
     "text": [
      "0.568\n",
      "0.658\n",
      "0.709\n",
      "0.749\n",
      "0.779\n",
      "0.807\n",
      "0.830\n",
      "0.848\n",
      "0.865\n",
      "0.879\n"
     ]
    }
   ],
   "source": [
    "for i in range(1,11):\n",
    "    print(\"{0:.3f}\".format(eval_top_k(pred_test, test_y, i)))"
   ]
  },
  {
   "cell_type": "code",
   "execution_count": 146,
   "metadata": {
    "collapsed": true
   },
   "outputs": [],
   "source": [
    "analysis_meta_dict = pickle.load(open( \"../analysis/meta_dict.p\", \"rb\" ))"
   ]
  },
  {
   "cell_type": "code",
   "execution_count": 106,
   "metadata": {},
   "outputs": [],
   "source": [
    "lda_model = LDA()\n",
    "lda_train = train_data.reshape(-1, train_data.shape[-1])\n",
    "lda_test = test_data.reshape(-1, test_data.shape[-1])"
   ]
  },
  {
   "cell_type": "code",
   "execution_count": 107,
   "metadata": {},
   "outputs": [
    {
     "data": {
      "text/plain": [
       "(1657050, 98)"
      ]
     },
     "execution_count": 107,
     "metadata": {},
     "output_type": "execute_result"
    }
   ],
   "source": [
    "lda_train.shape"
   ]
  },
  {
   "cell_type": "code",
   "execution_count": 108,
   "metadata": {},
   "outputs": [
    {
     "name": "stderr",
     "output_type": "stream",
     "text": [
      "C:\\ProgramData\\Anaconda3\\lib\\site-packages\\sklearn\\discriminant_analysis.py:455: UserWarning: The priors do not sum to 1. Renormalizing\n",
      "  UserWarning)\n",
      "C:\\ProgramData\\Anaconda3\\lib\\site-packages\\sklearn\\discriminant_analysis.py:387: UserWarning: Variables are collinear.\n",
      "  warnings.warn(\"Variables are collinear.\")\n"
     ]
    },
    {
     "data": {
      "text/plain": [
       "LinearDiscriminantAnalysis(n_components=None, priors=None, shrinkage=None,\n",
       "              solver='svd', store_covariance=False, tol=0.0001)"
      ]
     },
     "execution_count": 108,
     "metadata": {},
     "output_type": "execute_result"
    }
   ],
   "source": [
    "lda_model.fit(lda_train, np.argmax(train_y, axis = 1).repeat(50))"
   ]
  },
  {
   "cell_type": "code",
   "execution_count": 109,
   "metadata": {},
   "outputs": [
    {
     "data": {
      "text/plain": [
       "0.05985878519054947"
      ]
     },
     "execution_count": 109,
     "metadata": {},
     "output_type": "execute_result"
    }
   ],
   "source": [
    "lda_model.predict(meta_dict[\"embeddings\"])"
   ]
  },
  {
   "cell_type": "code",
   "execution_count": 82,
   "metadata": {},
   "outputs": [
    {
     "name": "stderr",
     "output_type": "stream",
     "text": [
      "C:\\ProgramData\\Anaconda3\\lib\\site-packages\\sklearn\\discriminant_analysis.py:523: RuntimeWarning: overflow encountered in exp\n",
      "  np.exp(prob, prob)\n"
     ]
    }
   ],
   "source": [
    "pred_test = lda_model.predict_proba(lda_test)"
   ]
  },
  {
   "cell_type": "code",
   "execution_count": 78,
   "metadata": {},
   "outputs": [
    {
     "data": {
      "text/plain": [
       "9"
      ]
     },
     "execution_count": 78,
     "metadata": {},
     "output_type": "execute_result"
    }
   ],
   "source": [
    "np.argmax(test_y, axis = 1)[2001]"
   ]
  },
  {
   "cell_type": "code",
   "execution_count": 81,
   "metadata": {
    "scrolled": true
   },
   "outputs": [
    {
     "name": "stdout",
     "output_type": "stream",
     "text": [
      "0: 0.002\n",
      "1: 0.067\n",
      "2: 0.003\n",
      "3: 0.000\n",
      "4: 0.018\n",
      "5: 0.000\n",
      "6: 0.000\n",
      "7: 0.000\n",
      "8: 0.005\n",
      "9: 0.021\n",
      "10: 0.000\n",
      "11: 0.000\n",
      "12: 0.003\n",
      "13: 0.235\n",
      "14: 0.223\n",
      "15: 0.000\n",
      "16: 0.000\n",
      "17: 0.046\n",
      "18: 0.003\n",
      "19: 0.000\n",
      "20: 0.000\n",
      "21: 0.000\n",
      "22: 0.000\n",
      "23: 0.019\n",
      "24: 0.000\n",
      "25: 0.000\n",
      "26: 0.010\n",
      "27: 0.000\n",
      "28: 0.000\n",
      "29: 0.000\n",
      "30: 0.153\n",
      "31: 0.100\n",
      "32: 0.007\n",
      "33: 0.002\n",
      "34: 0.000\n",
      "35: 0.082\n",
      "36: 0.000\n",
      "37: 0.000\n",
      "38: 0.000\n",
      "39: 0.000\n"
     ]
    }
   ],
   "source": [
    "for item in lda_model.predict_proba(lda_test[2005:2006]):\n",
    "    for index, num in enumerate(item):\n",
    "        print(str(index) + \": {0:.3f}\".format(num))"
   ]
  },
  {
   "cell_type": "code",
   "execution_count": 63,
   "metadata": {},
   "outputs": [
    {
     "data": {
      "text/plain": [
       "array([0, 0, 0, 0, 0, 0, 0, 0, 0, 0], dtype=int64)"
      ]
     },
     "execution_count": 63,
     "metadata": {},
     "output_type": "execute_result"
    }
   ],
   "source": [
    "np.argmax(test_y, axis = 1)[0:10]"
   ]
  },
  {
   "cell_type": "code",
   "execution_count": 42,
   "metadata": {},
   "outputs": [],
   "source": [
    "lda_train = train_data.reshape(train_data.shape[0], -1)"
   ]
  },
  {
   "cell_type": "code",
   "execution_count": 44,
   "metadata": {},
   "outputs": [
    {
     "data": {
      "text/plain": [
       "(33141, 50, 98)"
      ]
     },
     "execution_count": 44,
     "metadata": {},
     "output_type": "execute_result"
    }
   ],
   "source": [
    "train_data.shape"
   ]
  }
 ],
 "metadata": {
  "kernelspec": {
   "display_name": "Python 3",
   "language": "python",
   "name": "python3"
  },
  "language_info": {
   "codemirror_mode": {
    "name": "ipython",
    "version": 3
   },
   "file_extension": ".py",
   "mimetype": "text/x-python",
   "name": "python",
   "nbconvert_exporter": "python",
   "pygments_lexer": "ipython3",
   "version": "3.6.4"
  }
 },
 "nbformat": 4,
 "nbformat_minor": 2
}
