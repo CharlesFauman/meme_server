{
 "cells": [
  {
   "cell_type": "code",
   "execution_count": 1,
   "metadata": {},
   "outputs": [
    {
     "name": "stdout",
     "output_type": "stream",
     "text": [
      "[nltk_data] Downloading package punkt to /home/faumac/nltk_data...\n",
      "[nltk_data]   Package punkt is already up-to-date!\n",
      "[nltk_data] Downloading package averaged_perceptron_tagger to\n",
      "[nltk_data]     /home/faumac/nltk_data...\n",
      "[nltk_data]   Package averaged_perceptron_tagger is already up-to-\n",
      "[nltk_data]       date!\n",
      "[nltk_data] Downloading package wordnet to /home/faumac/nltk_data...\n",
      "[nltk_data]   Package wordnet is already up-to-date!\n"
     ]
    },
    {
     "name": "stderr",
     "output_type": "stream",
     "text": [
      "/home/faumac/anaconda3/lib/python3.6/site-packages/h5py/__init__.py:36: FutureWarning: Conversion of the second argument of issubdtype from `float` to `np.floating` is deprecated. In future, it will be treated as `np.float64 == np.dtype(float).type`.\n",
      "  from ._conv import register_converters as _register_converters\n",
      "Using TensorFlow backend.\n"
     ]
    }
   ],
   "source": [
    "import pickle\n",
    "\n",
    "import nltk\n",
    "nltk.download('punkt')\n",
    "nltk.download('averaged_perceptron_tagger')\n",
    "nltk.download('wordnet')\n",
    "\n",
    "import pandas as pd\n",
    "import numpy as np\n",
    "from keras.models import load_model\n",
    "\n",
    "from Final_Memes.cleaning import cleaning_functions\n",
    "from Final_Memes.analysis import analysis_functions\n",
    "\n",
    "cleaning_meta_dict = pickle.load(open( \"Final_Memes/cleaning/meta_dict.p\", \"rb\" ))\n",
    "analysis_meta_dict = pickle.load(open( \"Final_Memes/analysis/meta_dict.p\", \"rb\" ))\n",
    "keras_model = load_model(\"Final_Memes/analysis/model.hdf5\")\n",
    "\n",
    "def preprocess_serialize(input_form, input_files):\n",
    "    sentence = input_form\n",
    "    cleaned = cleaning_functions.clean_sentence(cleaning_meta_dict, sentence)\n",
    "    cleaned_as_df = pd.DataFrame(cleaned, columns = [\"token\", \"pos\", \"sentiment\"])\n",
    "    sentence_matrix = np.expand_dims(analysis_functions.vectorize_sentence(analysis_meta_dict, cleaned_as_df), 0)\n",
    "    return sentence_matrix.tolist()\n",
    "\n",
    "def preprocess_deserialize(input_):\n",
    "    return np.array(input_)\n",
    "\n",
    "def process(batch):\n",
    "\n",
    "    predictions = keras_model.predict(batch)\n",
    "    meme_predictions = list()\n",
    "    for prediction in predictions:\n",
    "        scores = list()\n",
    "        for index, val in enumerate(prediction):\n",
    "            scores.append(tuple((analysis_meta_dict[\"meme_names\"][index], val)))\n",
    "\n",
    "        meme_predictions.append(sorted(scores, key=lambda tup: tup[1], reverse=True))\n",
    "\n",
    "    return meme_predictions\n",
    "\n",
    "def postprocess_serialize(preds):\n",
    "    return preds"
   ]
  },
  {
   "cell_type": "code",
   "execution_count": 5,
   "metadata": {},
   "outputs": [],
   "source": [
    "first = preprocess_serialize(\"wow\", None)\n",
    "second = preprocess_deserialize(first)\n",
    "third = process(second)\n",
    "fourth"
   ]
  }
 ],
 "metadata": {
  "kernelspec": {
   "display_name": "Python 3",
   "language": "python",
   "name": "python3"
  },
  "language_info": {
   "codemirror_mode": {
    "name": "ipython",
    "version": 3
   },
   "file_extension": ".py",
   "mimetype": "text/x-python",
   "name": "python",
   "nbconvert_exporter": "python",
   "pygments_lexer": "ipython3",
   "version": "3.6.4"
  }
 },
 "nbformat": 4,
 "nbformat_minor": 2
}
